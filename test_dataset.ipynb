{
 "cells": [
  {
   "cell_type": "code",
   "execution_count": 1,
   "metadata": {
    "collapsed": true
   },
   "outputs": [],
   "source": [
    "\n",
    "import torchvision\n",
    "from torchvision.models.detection.faster_rcnn import FastRCNNPredictor\n",
    "from torchvision.models.detection import FasterRCNN\n",
    "from torchvision.models.detection.rpn import AnchorGenerator, RPNHead, RegionProposalNetwork\n",
    "import torch"
   ]
  },
  {
   "cell_type": "code",
   "execution_count": 2,
   "outputs": [],
   "source": [
    "fasterRCNN = torchvision.models.detection.fasterrcnn_resnet50_fpn(pretrained=True)\n",
    "# Define RPN\n",
    "anchor_generator = AnchorGenerator(sizes=tuple([(16, 32, 64, 128, 256) for _ in range(5)]), # let num of tuple equal to num of feature maps\n",
    "                                  aspect_ratios=tuple([(0.75, 0.5, 1.25) for _ in range(5)])) # ref: https://github.com/pytorch/vision/issues/978\n",
    "rpn_head = RPNHead(256, anchor_generator.num_anchors_per_location()[0])\n",
    "fasterRCNN.rpn = RegionProposalNetwork(\n",
    "    anchor_generator= anchor_generator, head= rpn_head,\n",
    "    fg_iou_thresh= 0.7, bg_iou_thresh=0.3,\n",
    "    batch_size_per_image=48, # use fewer proposals\n",
    "    positive_fraction = 0.5,\n",
    "    pre_nms_top_n=dict(training=200, testing=100),\n",
    "    post_nms_top_n=dict(training=160, testing=80),\n",
    "    nms_thresh = 0.7\n",
    ")"
   ],
   "metadata": {
    "collapsed": false,
    "pycharm": {
     "name": "#%%\n"
    }
   }
  }
 ],
 "metadata": {
  "kernelspec": {
   "name": "pycharm-44e333e7",
   "language": "python",
   "display_name": "PyCharm (visdrone)"
  },
  "language_info": {
   "codemirror_mode": {
    "name": "ipython",
    "version": 2
   },
   "file_extension": ".py",
   "mimetype": "text/x-python",
   "name": "python",
   "nbconvert_exporter": "python",
   "pygments_lexer": "ipython2",
   "version": "2.7.6"
  }
 },
 "nbformat": 4,
 "nbformat_minor": 0
}